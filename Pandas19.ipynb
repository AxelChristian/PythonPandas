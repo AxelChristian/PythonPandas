{
 "cells": [
  {
   "cell_type": "markdown",
   "id": "first-freeware",
   "metadata": {},
   "source": [
    "# PANDAS19 Formatting tampilan Data Frame"
   ]
  },
  {
   "cell_type": "markdown",
   "id": "challenging-coral",
   "metadata": {},
   "source": [
    "## Import modules & Cek Versi"
   ]
  },
  {
   "cell_type": "code",
   "execution_count": 5,
   "id": "baking-onion",
   "metadata": {},
   "outputs": [
    {
     "name": "stdout",
     "output_type": "stream",
     "text": [
      "1.2.3\n",
      "1.19.2\n"
     ]
    }
   ],
   "source": [
    "import pandas as pd\n",
    "import numpy as np\n",
    "\n",
    "print(pd.__version__)\n",
    "print(np.__version__)"
   ]
  },
  {
   "cell_type": "markdown",
   "id": "green-nursing",
   "metadata": {},
   "source": [
    "## Persiapan Data Frame"
   ]
  },
  {
   "cell_type": "code",
   "execution_count": 6,
   "id": "false-turner",
   "metadata": {},
   "outputs": [
    {
     "data": {
      "text/html": [
       "<div>\n",
       "<style scoped>\n",
       "    .dataframe tbody tr th:only-of-type {\n",
       "        vertical-align: middle;\n",
       "    }\n",
       "\n",
       "    .dataframe tbody tr th {\n",
       "        vertical-align: top;\n",
       "    }\n",
       "\n",
       "    .dataframe thead th {\n",
       "        text-align: right;\n",
       "    }\n",
       "</style>\n",
       "<table border=\"1\" class=\"dataframe\">\n",
       "  <thead>\n",
       "    <tr style=\"text-align: right;\">\n",
       "      <th></th>\n",
       "      <th>omset</th>\n",
       "      <th>operasional</th>\n",
       "    </tr>\n",
       "  </thead>\n",
       "  <tbody>\n",
       "    <tr>\n",
       "      <th>0</th>\n",
       "      <td>7</td>\n",
       "      <td>6</td>\n",
       "    </tr>\n",
       "    <tr>\n",
       "      <th>1</th>\n",
       "      <td>6</td>\n",
       "      <td>13</td>\n",
       "    </tr>\n",
       "    <tr>\n",
       "      <th>2</th>\n",
       "      <td>17</td>\n",
       "      <td>18</td>\n",
       "    </tr>\n",
       "    <tr>\n",
       "      <th>3</th>\n",
       "      <td>15</td>\n",
       "      <td>5</td>\n",
       "    </tr>\n",
       "    <tr>\n",
       "      <th>4</th>\n",
       "      <td>1</td>\n",
       "      <td>9</td>\n",
       "    </tr>\n",
       "  </tbody>\n",
       "</table>\n",
       "</div>"
      ],
      "text/plain": [
       "   omset  operasional\n",
       "0      7            6\n",
       "1      6           13\n",
       "2     17           18\n",
       "3     15            5\n",
       "4      1            9"
      ]
     },
     "execution_count": 6,
     "metadata": {},
     "output_type": "execute_result"
    }
   ],
   "source": [
    "n_rows = 5\n",
    "n_cols = 2\n",
    "cols = ['omset', 'operasional']\n",
    "\n",
    "df = pd.DataFrame(np.random.randint(1, 20, size=(n_rows, n_cols)), \n",
    "                  columns=cols)\n",
    "df"
   ]
  },
  {
   "cell_type": "code",
   "execution_count": 7,
   "id": "interesting-document",
   "metadata": {},
   "outputs": [
    {
     "data": {
      "text/html": [
       "<div>\n",
       "<style scoped>\n",
       "    .dataframe tbody tr th:only-of-type {\n",
       "        vertical-align: middle;\n",
       "    }\n",
       "\n",
       "    .dataframe tbody tr th {\n",
       "        vertical-align: top;\n",
       "    }\n",
       "\n",
       "    .dataframe thead th {\n",
       "        text-align: right;\n",
       "    }\n",
       "</style>\n",
       "<table border=\"1\" class=\"dataframe\">\n",
       "  <thead>\n",
       "    <tr style=\"text-align: right;\">\n",
       "      <th></th>\n",
       "      <th>omset</th>\n",
       "      <th>operasional</th>\n",
       "    </tr>\n",
       "  </thead>\n",
       "  <tbody>\n",
       "    <tr>\n",
       "      <th>0</th>\n",
       "      <td>700000</td>\n",
       "      <td>60000</td>\n",
       "    </tr>\n",
       "    <tr>\n",
       "      <th>1</th>\n",
       "      <td>600000</td>\n",
       "      <td>130000</td>\n",
       "    </tr>\n",
       "    <tr>\n",
       "      <th>2</th>\n",
       "      <td>1700000</td>\n",
       "      <td>180000</td>\n",
       "    </tr>\n",
       "    <tr>\n",
       "      <th>3</th>\n",
       "      <td>1500000</td>\n",
       "      <td>50000</td>\n",
       "    </tr>\n",
       "    <tr>\n",
       "      <th>4</th>\n",
       "      <td>100000</td>\n",
       "      <td>90000</td>\n",
       "    </tr>\n",
       "  </tbody>\n",
       "</table>\n",
       "</div>"
      ],
      "text/plain": [
       "     omset  operasional\n",
       "0   700000        60000\n",
       "1   600000       130000\n",
       "2  1700000       180000\n",
       "3  1500000        50000\n",
       "4   100000        90000"
      ]
     },
     "execution_count": 7,
     "metadata": {},
     "output_type": "execute_result"
    }
   ],
   "source": [
    "df['omset'] = df['omset'] * 100_000\n",
    "df['operasional'] = df['operasional'] * 10_000 #underscore = ignore character\n",
    "df"
   ]
  },
  {
   "cell_type": "code",
   "execution_count": 8,
   "id": "homeless-henry",
   "metadata": {},
   "outputs": [
    {
     "data": {
      "text/html": [
       "<div>\n",
       "<style scoped>\n",
       "    .dataframe tbody tr th:only-of-type {\n",
       "        vertical-align: middle;\n",
       "    }\n",
       "\n",
       "    .dataframe tbody tr th {\n",
       "        vertical-align: top;\n",
       "    }\n",
       "\n",
       "    .dataframe thead th {\n",
       "        text-align: right;\n",
       "    }\n",
       "</style>\n",
       "<table border=\"1\" class=\"dataframe\">\n",
       "  <thead>\n",
       "    <tr style=\"text-align: right;\">\n",
       "      <th></th>\n",
       "      <th>tanggal</th>\n",
       "      <th>omset</th>\n",
       "      <th>operasional</th>\n",
       "    </tr>\n",
       "  </thead>\n",
       "  <tbody>\n",
       "    <tr>\n",
       "      <th>0</th>\n",
       "      <td>2000-01-01</td>\n",
       "      <td>700000</td>\n",
       "      <td>60000</td>\n",
       "    </tr>\n",
       "    <tr>\n",
       "      <th>1</th>\n",
       "      <td>2000-01-02</td>\n",
       "      <td>600000</td>\n",
       "      <td>130000</td>\n",
       "    </tr>\n",
       "    <tr>\n",
       "      <th>2</th>\n",
       "      <td>2000-01-03</td>\n",
       "      <td>1700000</td>\n",
       "      <td>180000</td>\n",
       "    </tr>\n",
       "    <tr>\n",
       "      <th>3</th>\n",
       "      <td>2000-01-04</td>\n",
       "      <td>1500000</td>\n",
       "      <td>50000</td>\n",
       "    </tr>\n",
       "    <tr>\n",
       "      <th>4</th>\n",
       "      <td>2000-01-05</td>\n",
       "      <td>100000</td>\n",
       "      <td>90000</td>\n",
       "    </tr>\n",
       "  </tbody>\n",
       "</table>\n",
       "</div>"
      ],
      "text/plain": [
       "     tanggal    omset  operasional\n",
       "0 2000-01-01   700000        60000\n",
       "1 2000-01-02   600000       130000\n",
       "2 2000-01-03  1700000       180000\n",
       "3 2000-01-04  1500000        50000\n",
       "4 2000-01-05   100000        90000"
      ]
     },
     "execution_count": 8,
     "metadata": {},
     "output_type": "execute_result"
    }
   ],
   "source": [
    "df.index = pd.util.testing.makeDateIndex(n_rows, freq='D')\n",
    "df = df.reset_index() #index dibuat jadi index biasa, bukan index date\n",
    "df = df.rename(columns={'index':'tanggal'})\n",
    "df"
   ]
  },
  {
   "cell_type": "markdown",
   "id": "internal-knitting",
   "metadata": {},
   "source": [
    "## Melakukan formatting tampilan Data Frame"
   ]
  },
  {
   "cell_type": "code",
   "execution_count": 9,
   "id": "animated-adjustment",
   "metadata": {},
   "outputs": [
    {
     "data": {
      "text/html": [
       "<style  type=\"text/css\" >\n",
       "</style><table id=\"T_51b78_\" ><thead>    <tr>        <th class=\"blank level0\" ></th>        <th class=\"col_heading level0 col0\" >tanggal</th>        <th class=\"col_heading level0 col1\" >omset</th>        <th class=\"col_heading level0 col2\" >operasional</th>    </tr></thead><tbody>\n",
       "                <tr>\n",
       "                        <th id=\"T_51b78_level0_row0\" class=\"row_heading level0 row0\" >0</th>\n",
       "                        <td id=\"T_51b78_row0_col0\" class=\"data row0 col0\" >01/01/00</td>\n",
       "                        <td id=\"T_51b78_row0_col1\" class=\"data row0 col1\" >Rp 700000.00</td>\n",
       "                        <td id=\"T_51b78_row0_col2\" class=\"data row0 col2\" >Rp 60000.00</td>\n",
       "            </tr>\n",
       "            <tr>\n",
       "                        <th id=\"T_51b78_level0_row1\" class=\"row_heading level0 row1\" >1</th>\n",
       "                        <td id=\"T_51b78_row1_col0\" class=\"data row1 col0\" >02/01/00</td>\n",
       "                        <td id=\"T_51b78_row1_col1\" class=\"data row1 col1\" >Rp 600000.00</td>\n",
       "                        <td id=\"T_51b78_row1_col2\" class=\"data row1 col2\" >Rp 130000.00</td>\n",
       "            </tr>\n",
       "            <tr>\n",
       "                        <th id=\"T_51b78_level0_row2\" class=\"row_heading level0 row2\" >2</th>\n",
       "                        <td id=\"T_51b78_row2_col0\" class=\"data row2 col0\" >03/01/00</td>\n",
       "                        <td id=\"T_51b78_row2_col1\" class=\"data row2 col1\" >Rp 1700000.00</td>\n",
       "                        <td id=\"T_51b78_row2_col2\" class=\"data row2 col2\" >Rp 180000.00</td>\n",
       "            </tr>\n",
       "            <tr>\n",
       "                        <th id=\"T_51b78_level0_row3\" class=\"row_heading level0 row3\" >3</th>\n",
       "                        <td id=\"T_51b78_row3_col0\" class=\"data row3 col0\" >04/01/00</td>\n",
       "                        <td id=\"T_51b78_row3_col1\" class=\"data row3 col1\" >Rp 1500000.00</td>\n",
       "                        <td id=\"T_51b78_row3_col2\" class=\"data row3 col2\" >Rp 50000.00</td>\n",
       "            </tr>\n",
       "            <tr>\n",
       "                        <th id=\"T_51b78_level0_row4\" class=\"row_heading level0 row4\" >4</th>\n",
       "                        <td id=\"T_51b78_row4_col0\" class=\"data row4 col0\" >05/01/00</td>\n",
       "                        <td id=\"T_51b78_row4_col1\" class=\"data row4 col1\" >Rp 100000.00</td>\n",
       "                        <td id=\"T_51b78_row4_col2\" class=\"data row4 col2\" >Rp 90000.00</td>\n",
       "            </tr>\n",
       "    </tbody></table>"
      ],
      "text/plain": [
       "<pandas.io.formats.style.Styler at 0x2b0630ccee0>"
      ]
     },
     "execution_count": 9,
     "metadata": {},
     "output_type": "execute_result"
    }
   ],
   "source": [
    "formatku = {\n",
    "    'tanggal': '{:%d/%m/%y}',\n",
    "    'operasional': 'Rp {:.2f}',\n",
    "    'omset': 'Rp {:.2f}'\n",
    "}\n",
    "\n",
    "laporan = df.style.format(formatku)\n",
    "laporan"
   ]
  },
  {
   "cell_type": "code",
   "execution_count": 10,
   "id": "greater-delay",
   "metadata": {},
   "outputs": [
    {
     "data": {
      "text/plain": [
       "pandas.io.formats.style.Styler"
      ]
     },
     "execution_count": 10,
     "metadata": {},
     "output_type": "execute_result"
    }
   ],
   "source": [
    "type(laporan) #objectnya bukan tipe data frame lagi"
   ]
  },
  {
   "cell_type": "code",
   "execution_count": 11,
   "id": "cellular-brighton",
   "metadata": {},
   "outputs": [
    {
     "data": {
      "text/html": [
       "<style  type=\"text/css\" >\n",
       "</style><table id=\"T_51b78_\" ><thead>    <tr>        <th class=\"col_heading level0 col0\" >tanggal</th>        <th class=\"col_heading level0 col1\" >omset</th>        <th class=\"col_heading level0 col2\" >operasional</th>    </tr></thead><tbody>\n",
       "                <tr>\n",
       "                                <td id=\"T_51b78_row0_col0\" class=\"data row0 col0\" >01/01/00</td>\n",
       "                        <td id=\"T_51b78_row0_col1\" class=\"data row0 col1\" >Rp 700000.00</td>\n",
       "                        <td id=\"T_51b78_row0_col2\" class=\"data row0 col2\" >Rp 60000.00</td>\n",
       "            </tr>\n",
       "            <tr>\n",
       "                                <td id=\"T_51b78_row1_col0\" class=\"data row1 col0\" >02/01/00</td>\n",
       "                        <td id=\"T_51b78_row1_col1\" class=\"data row1 col1\" >Rp 600000.00</td>\n",
       "                        <td id=\"T_51b78_row1_col2\" class=\"data row1 col2\" >Rp 130000.00</td>\n",
       "            </tr>\n",
       "            <tr>\n",
       "                                <td id=\"T_51b78_row2_col0\" class=\"data row2 col0\" >03/01/00</td>\n",
       "                        <td id=\"T_51b78_row2_col1\" class=\"data row2 col1\" >Rp 1700000.00</td>\n",
       "                        <td id=\"T_51b78_row2_col2\" class=\"data row2 col2\" >Rp 180000.00</td>\n",
       "            </tr>\n",
       "            <tr>\n",
       "                                <td id=\"T_51b78_row3_col0\" class=\"data row3 col0\" >04/01/00</td>\n",
       "                        <td id=\"T_51b78_row3_col1\" class=\"data row3 col1\" >Rp 1500000.00</td>\n",
       "                        <td id=\"T_51b78_row3_col2\" class=\"data row3 col2\" >Rp 50000.00</td>\n",
       "            </tr>\n",
       "            <tr>\n",
       "                                <td id=\"T_51b78_row4_col0\" class=\"data row4 col0\" >05/01/00</td>\n",
       "                        <td id=\"T_51b78_row4_col1\" class=\"data row4 col1\" >Rp 100000.00</td>\n",
       "                        <td id=\"T_51b78_row4_col2\" class=\"data row4 col2\" >Rp 90000.00</td>\n",
       "            </tr>\n",
       "    </tbody></table>"
      ],
      "text/plain": [
       "<pandas.io.formats.style.Styler at 0x2b0630ccee0>"
      ]
     },
     "execution_count": 11,
     "metadata": {},
     "output_type": "execute_result"
    }
   ],
   "source": [
    "laporan.hide_index()"
   ]
  },
  {
   "cell_type": "code",
   "execution_count": 12,
   "id": "devoted-sleep",
   "metadata": {},
   "outputs": [
    {
     "data": {
      "text/html": [
       "<style  type=\"text/css\" >\n",
       "</style><table id=\"T_51b78_\" ><caption>Data Omset dan Operasional</caption><thead>    <tr>        <th class=\"col_heading level0 col0\" >tanggal</th>        <th class=\"col_heading level0 col1\" >omset</th>        <th class=\"col_heading level0 col2\" >operasional</th>    </tr></thead><tbody>\n",
       "                <tr>\n",
       "                                <td id=\"T_51b78_row0_col0\" class=\"data row0 col0\" >01/01/00</td>\n",
       "                        <td id=\"T_51b78_row0_col1\" class=\"data row0 col1\" >Rp 700000.00</td>\n",
       "                        <td id=\"T_51b78_row0_col2\" class=\"data row0 col2\" >Rp 60000.00</td>\n",
       "            </tr>\n",
       "            <tr>\n",
       "                                <td id=\"T_51b78_row1_col0\" class=\"data row1 col0\" >02/01/00</td>\n",
       "                        <td id=\"T_51b78_row1_col1\" class=\"data row1 col1\" >Rp 600000.00</td>\n",
       "                        <td id=\"T_51b78_row1_col2\" class=\"data row1 col2\" >Rp 130000.00</td>\n",
       "            </tr>\n",
       "            <tr>\n",
       "                                <td id=\"T_51b78_row2_col0\" class=\"data row2 col0\" >03/01/00</td>\n",
       "                        <td id=\"T_51b78_row2_col1\" class=\"data row2 col1\" >Rp 1700000.00</td>\n",
       "                        <td id=\"T_51b78_row2_col2\" class=\"data row2 col2\" >Rp 180000.00</td>\n",
       "            </tr>\n",
       "            <tr>\n",
       "                                <td id=\"T_51b78_row3_col0\" class=\"data row3 col0\" >04/01/00</td>\n",
       "                        <td id=\"T_51b78_row3_col1\" class=\"data row3 col1\" >Rp 1500000.00</td>\n",
       "                        <td id=\"T_51b78_row3_col2\" class=\"data row3 col2\" >Rp 50000.00</td>\n",
       "            </tr>\n",
       "            <tr>\n",
       "                                <td id=\"T_51b78_row4_col0\" class=\"data row4 col0\" >05/01/00</td>\n",
       "                        <td id=\"T_51b78_row4_col1\" class=\"data row4 col1\" >Rp 100000.00</td>\n",
       "                        <td id=\"T_51b78_row4_col2\" class=\"data row4 col2\" >Rp 90000.00</td>\n",
       "            </tr>\n",
       "    </tbody></table>"
      ],
      "text/plain": [
       "<pandas.io.formats.style.Styler at 0x2b0630ccee0>"
      ]
     },
     "execution_count": 12,
     "metadata": {},
     "output_type": "execute_result"
    }
   ],
   "source": [
    "laporan.set_caption('Data Omset dan Operasional')"
   ]
  },
  {
   "cell_type": "code",
   "execution_count": 13,
   "id": "bronze-counter",
   "metadata": {},
   "outputs": [
    {
     "data": {
      "text/html": [
       "<style  type=\"text/css\" >\n",
       "#T_51b78_row2_col1{\n",
       "            background-color:  lightgreen;\n",
       "        }#T_51b78_row2_col2{\n",
       "            background-color:  grey;\n",
       "        }#T_51b78_row3_col2{\n",
       "            background-color:  lightblue;\n",
       "        }#T_51b78_row4_col1{\n",
       "            background-color:  pink;\n",
       "        }</style><table id=\"T_51b78_\" ><caption>Data Omset dan Operasional</caption><thead>    <tr>        <th class=\"col_heading level0 col0\" >tanggal</th>        <th class=\"col_heading level0 col1\" >omset</th>        <th class=\"col_heading level0 col2\" >operasional</th>    </tr></thead><tbody>\n",
       "                <tr>\n",
       "                                <td id=\"T_51b78_row0_col0\" class=\"data row0 col0\" >01/01/00</td>\n",
       "                        <td id=\"T_51b78_row0_col1\" class=\"data row0 col1\" >Rp 700000.00</td>\n",
       "                        <td id=\"T_51b78_row0_col2\" class=\"data row0 col2\" >Rp 60000.00</td>\n",
       "            </tr>\n",
       "            <tr>\n",
       "                                <td id=\"T_51b78_row1_col0\" class=\"data row1 col0\" >02/01/00</td>\n",
       "                        <td id=\"T_51b78_row1_col1\" class=\"data row1 col1\" >Rp 600000.00</td>\n",
       "                        <td id=\"T_51b78_row1_col2\" class=\"data row1 col2\" >Rp 130000.00</td>\n",
       "            </tr>\n",
       "            <tr>\n",
       "                                <td id=\"T_51b78_row2_col0\" class=\"data row2 col0\" >03/01/00</td>\n",
       "                        <td id=\"T_51b78_row2_col1\" class=\"data row2 col1\" >Rp 1700000.00</td>\n",
       "                        <td id=\"T_51b78_row2_col2\" class=\"data row2 col2\" >Rp 180000.00</td>\n",
       "            </tr>\n",
       "            <tr>\n",
       "                                <td id=\"T_51b78_row3_col0\" class=\"data row3 col0\" >04/01/00</td>\n",
       "                        <td id=\"T_51b78_row3_col1\" class=\"data row3 col1\" >Rp 1500000.00</td>\n",
       "                        <td id=\"T_51b78_row3_col2\" class=\"data row3 col2\" >Rp 50000.00</td>\n",
       "            </tr>\n",
       "            <tr>\n",
       "                                <td id=\"T_51b78_row4_col0\" class=\"data row4 col0\" >05/01/00</td>\n",
       "                        <td id=\"T_51b78_row4_col1\" class=\"data row4 col1\" >Rp 100000.00</td>\n",
       "                        <td id=\"T_51b78_row4_col2\" class=\"data row4 col2\" >Rp 90000.00</td>\n",
       "            </tr>\n",
       "    </tbody></table>"
      ],
      "text/plain": [
       "<pandas.io.formats.style.Styler at 0x2b0630ccee0>"
      ]
     },
     "execution_count": 13,
     "metadata": {},
     "output_type": "execute_result"
    }
   ],
   "source": [
    "laporan.highlight_min('omset', color='pink')\n",
    "laporan.highlight_max('omset', color='lightgreen')\n",
    "\n",
    "laporan.highlight_min('operasional', color='lightblue')\n",
    "laporan.highlight_max('operasional', color='grey')"
   ]
  },
  {
   "cell_type": "code",
   "execution_count": null,
   "id": "incorporated-sheet",
   "metadata": {},
   "outputs": [],
   "source": []
  }
 ],
 "metadata": {
  "kernelspec": {
   "display_name": "Python 3",
   "language": "python",
   "name": "python3"
  },
  "language_info": {
   "codemirror_mode": {
    "name": "ipython",
    "version": 3
   },
   "file_extension": ".py",
   "mimetype": "text/x-python",
   "name": "python",
   "nbconvert_exporter": "python",
   "pygments_lexer": "ipython3",
   "version": "3.8.8"
  }
 },
 "nbformat": 4,
 "nbformat_minor": 5
}
